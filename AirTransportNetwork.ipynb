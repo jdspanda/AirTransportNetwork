{
  "nbformat": 4,
  "nbformat_minor": 0,
  "metadata": {
    "colab": {
      "provenance": [],
      "mount_file_id": "1GacwUHScLVJRZoBV9Ubw3n8ca3fQ8Uis",
      "authorship_tag": "ABX9TyOEqVJ3w1JxD+x2EPIP/06w",
      "include_colab_link": true
    },
    "kernelspec": {
      "name": "python3",
      "display_name": "Python 3"
    },
    "language_info": {
      "name": "python"
    }
  },
  "cells": [
    {
      "cell_type": "markdown",
      "metadata": {
        "id": "view-in-github",
        "colab_type": "text"
      },
      "source": [
        "<a href=\"https://colab.research.google.com/github/jdspanda/AirTransportNetwork/blob/main/AirTransportNetwork.ipynb\" target=\"_parent\"><img src=\"https://colab.research.google.com/assets/colab-badge.svg\" alt=\"Open In Colab\"/></a>"
      ]
    },
    {
      "cell_type": "code",
      "source": [
        "# \"For every minute spent in organizing, an hour is earned.\" (B.Franklin)\n",
        "!rm -r sample_data"
      ],
      "metadata": {
        "id": "Dhy0jLyiKrnW"
      },
      "execution_count": null,
      "outputs": []
    },
    {
      "cell_type": "code",
      "source": [
        "# Get files from GitHub repository & importing necesary methods for GitHub integration\n",
        "!git clone https://github.com/joaquindariosilva/AirTransportNetwork"
      ],
      "metadata": {
        "id": "Qm7Wl5-t7Afv"
      },
      "execution_count": null,
      "outputs": []
    },
    {
      "cell_type": "code",
      "source": [
        "# Installing required packages for the notebook environment\n",
        "!pip install pandas networkx matplotlib\n",
        "\n",
        "# Importing libraries for data manipulation and visualization\n",
        "import pandas as pd\n",
        "import networkx as nx\n",
        "import matplotlib.pyplot as plt"
      ],
      "metadata": {
        "id": "bm94cKWFOqJn"
      },
      "execution_count": null,
      "outputs": []
    },
    {
      "cell_type": "code",
      "source": [
        "# Load CSV files into DataFrame\n",
        "routes = pd.read_csv('AirTransportNetwork/data/routes.csv')\n",
        "nodes = pd.read_csv('AirTransportNetwork/data/airports.csv')\n",
        "airlines = pd.read_csv('AirTransportNetwork/data/airlines.csv')\n",
        "airports = pd.read_csv('AirTransportNetwork/data/airports.csv')"
      ],
      "metadata": {
        "id": "_mf2als0AoVy"
      },
      "execution_count": null,
      "outputs": []
    }
  ]
}